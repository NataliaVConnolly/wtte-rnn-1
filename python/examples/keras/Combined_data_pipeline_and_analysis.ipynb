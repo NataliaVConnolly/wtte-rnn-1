{
 "cells": [
  {
   "cell_type": "markdown",
   "metadata": {},
   "source": [
    "#### Combining data_pipeline and simple_example"
   ]
  },
  {
   "cell_type": "code",
   "execution_count": 2,
   "metadata": {},
   "outputs": [
    {
     "name": "stderr",
     "output_type": "stream",
     "text": [
      "Using TensorFlow backend.\n"
     ]
    },
    {
     "name": "stdout",
     "output_type": "stream",
     "text": [
      "1.0.1\n"
     ]
    }
   ],
   "source": [
    "%matplotlib inline\n",
    "import numpy as np\n",
    "import pandas as pd\n",
    "import matplotlib.pyplot as plt\n",
    "\n",
    "import wtte.tte_util as tte\n",
    "import wtte.transforms as tr\n",
    "\n",
    "import tensorflow as tf\n",
    "from keras import backend as k\n",
    "from keras.models import Sequential\n",
    "from keras.layers import Dense\n",
    "from keras.layers import LSTM,GRU\n",
    "from keras.layers import Activation\n",
    "from keras.layers import Masking\n",
    "from keras.layers import LocallyConnected1D\n",
    "from keras.optimizers import RMSprop\n",
    "from keras.callbacks import History, TensorBoard\n",
    "\n",
    "print(tf.__version__) \n",
    "\n",
    "import wtte.weibull as weibull\n",
    "import wtte.wtte as wtte\n",
    "\n",
    "#from IPython import display"
   ]
  },
  {
   "cell_type": "code",
   "execution_count": 3,
   "metadata": {
    "collapsed": true
   },
   "outputs": [],
   "source": [
    "pd.options.display.max_rows = 10\n",
    "\n",
    "path = \"~/tensorflow\"\n",
    "df = pd.read_csv(path+'/tensorflow.log',error_bad_lines=False)\n",
    "df.fillna(0,inplace=True)\n"
   ]
  },
  {
   "cell_type": "code",
   "execution_count": 4,
   "metadata": {},
   "outputs": [
    {
     "data": {
      "image/png": "[encoded data removed]",
      "text/plain": [
       "<matplotlib.figure.Figure at 0x10b00d050>"
      ]
     },
     "metadata": {},
     "output_type": "display_data"
    }
   ],
   "source": [
    "# Create a fictitious integer id based on first commit.\n",
    "# (order has no downstream implications except easy plotting.)\n",
    "\n",
    "# group by: split or group by author name, \n",
    "# then apply some function to each group - in this case it's finding the min\n",
    "# of a given author's commit + their name, \n",
    "# then rank those strings using the 'dense'  method, \n",
    "# which ensures we pick the lowest rank in group and that \n",
    "# rank always increases by 1 between groups\n",
    "id_col = 'id'\n",
    "df[id_col] = df.groupby([\"author_name\"], group_keys=False).\\\n",
    "               apply(lambda g: g.time_sec.min().\\\n",
    "               astype(str)+g.author_name).\\\n",
    "               rank(method='dense').astype(int)\n",
    "\n",
    "df.plot(kind='scatter', x='time_sec', y='id',s=0.1)\n",
    "plt.title('commits')\n",
    "plt.xlabel('time')\n",
    "plt.ylabel('user id')\n",
    "plt.show()\n",
    "    \n",
    "df.sort_values(['id','time_sec'],inplace=True)"
   ]
  },
  {
   "cell_type": "code",
   "execution_count": 5,
   "metadata": {
    "collapsed": true
   },
   "outputs": [],
   "source": [
    "# dt = wallclock time, global timestep i.e 2012-01-01,...\n",
    "abs_time_col='dt'\n",
    "# t  = elapsed time, local timestep i.e 0,1,2,10,...\n",
    "t_col = 't_elapsed' \n",
    "discrete_time = True\n",
    "# Does the explicit rows in dataset cover each sequence whole life?\n",
    "sequences_terminated = False\n",
    "numeric_cols = [\"n_commits\",\"files_changed\", \"lines_inserted\",\"lines_deleted\"]\n",
    "\n",
    "if discrete_time:\n",
    "    # Convert nanosec to date\n",
    "    # without selecting the dt.date the \"abs_time_col\" column would have\n",
    "    # contained full dates, such as \"2015-11-07 02:37:11\"\n",
    "    df[abs_time_col] = pd.to_datetime(df['time_sec'],unit='s').dt.date\n",
    "    # Last timestep may be incomplete/not fully measured so drop it.\n",
    "    df = df.loc[df[abs_time_col] <= df[abs_time_col].max()]\n",
    "else:\n",
    "    # Left as human readable format for readability.\n",
    "#    df[abs_time_col] = pd.to_datetime(df['time_sec'],unit='s')\n",
    "    df[abs_time_col] = df['time_sec']\n",
    "\n",
    "# here we have the special case that a row indicates an event:\n",
    "df['n_commits'] = 1"
   ]
  },
  {
   "cell_type": "code",
   "execution_count": 6,
   "metadata": {
    "collapsed": true
   },
   "outputs": [],
   "source": [
    "# Aggregate over the new datetime interval to get id,dt = unique key value pair\n",
    "# dict.fromkeys creates a dictionary of key (numeric column names) - value ('sum' for all) pairs\n",
    "\n",
    "# so we are groupping by id (like 1), author name (why?), and dt (like 2015-11-07)\n",
    "# and then use agg() to calculate some statistics per group \n",
    "# aggregation instructions are in the form of a dictionary:\n",
    "# use the dictionary keys to specify the columns on which it'll operate\n",
    "# and the values specify the functions to run\n",
    "df = df.groupby([id_col,'author_name',abs_time_col],as_index=False).\\\n",
    "    agg(dict.fromkeys(numeric_cols, \"sum\"))#.reset_index()\n",
    "\n",
    "# event = if something special happened i.e commit.\n",
    "df['event'] =  (df.n_commits>0).astype(int)"
   ]
  },
  {
   "cell_type": "code",
   "execution_count": 7,
   "metadata": {
    "collapsed": true
   },
   "outputs": [],
   "source": [
    "# so this basically added the endtime, which is the max of abs_time_col (=dt)\n",
    "# and fills the values with 0's if a given id/author combination have no record for\n",
    "# that time\n",
    "\n",
    "if not sequences_terminated:\n",
    "    # Assuming each sequence has its own start and is not terminated by last event:\n",
    "    # Add last time that we knew the sequence was 'alive'.\n",
    "    df = tr.df_join_in_endtime(df,\n",
    "               per_id_cols=[id_col,'author_name'], \n",
    "               abs_time_col=abs_time_col,nanfill_val = 0)\n",
    "    # Warning: fills unseen timesteps with 0\n"
   ]
  },
  {
   "cell_type": "code",
   "execution_count": 8,
   "metadata": {
    "collapsed": true
   },
   "outputs": [],
   "source": [
    "# Add \"elapsed time\" t_elapsed = 0,3,99,179,.. for each group (=user). \n",
    "# t_col = t_elapsed was defined earlier\n",
    "df[t_col] = df.groupby([id_col], group_keys=False).apply(lambda g: g.dt-g.dt.min())"
   ]
  },
  {
   "cell_type": "code",
   "execution_count": 9,
   "metadata": {
    "collapsed": true
   },
   "outputs": [],
   "source": [
    "if discrete_time:\n",
    "    # Make it a well-behaved integer:\n",
    "    # infer the discrete stepsize as the first component of the timedelta\n",
    "    # because otherwise it would have been something like \"4 days\", \"8 days\", etc.\n",
    "    df[t_col] = df[t_col].dt.components.ix[:,0] \n",
    "else:\n",
    "    # Add t_ix = 0,1,2,3,.. and set as primary user-time indicator.\n",
    "    # if we pass t_elapsed as t_col downstream we'll pad between observed secs\n",
    "    df['t_ix'] = df.groupby([id_col])[t_col].rank(method='dense').astype(int)-1\n",
    "    t_col = 't_ix'"
   ]
  },
  {
   "cell_type": "code",
   "execution_count": 10,
   "metadata": {},
   "outputs": [
    {
     "name": "stdout",
     "output_type": "stream",
     "text": [
      "[101 101  89  88  86  85  74  71  69  68  67  65  63  63  63  63  62  61\n",
      "  61  61  61  61  60  60  60  60  60  59  58  57  55  55  55  54  54  54\n",
      "  53  52  52  51  51  50  47  44  43  43  43  42  42  41  41  40  40  38\n",
      "  36  36  36  35  35  35  33  33  33  31  29  28  26  25  24  24  24  23\n",
      "  23  23  22  21  21  21  20  18  18  18  18  15  13  12  12   9   8   8\n",
      "   6   6   6   5   5   5]\n",
      "(96, 101)\n",
      "[  1.   0.   0.   0.   0.  nan  nan  nan  nan  nan  nan  nan  nan  nan  nan\n",
      "  nan  nan  nan  nan  nan  nan  nan  nan  nan  nan  nan  nan  nan  nan  nan\n",
      "  nan  nan  nan  nan  nan  nan  nan  nan  nan  nan  nan  nan  nan  nan  nan\n",
      "  nan  nan  nan  nan  nan  nan  nan  nan  nan  nan  nan  nan  nan  nan  nan\n",
      "  nan  nan  nan  nan  nan  nan  nan  nan  nan  nan  nan  nan  nan  nan  nan\n",
      "  nan  nan  nan  nan  nan  nan  nan  nan  nan  nan  nan  nan  nan  nan  nan\n",
      "  nan  nan  nan  nan  nan  nan  nan  nan  nan  nan  nan]\n"
     ]
    }
   ],
   "source": [
    "# df_to_padded calls df_to_array(df, column_names = ['event'], nanpad_right = True)\n",
    "# with id_col = 'id' and t_col = t_elapsed \n",
    "\n",
    "# now df_to_array does the following:\n",
    "# - take df with columns column_names, as well as 'id' and 't'\n",
    "# - if 't' is non-contiguous then steps in between t's are padded with zeros\n",
    "# - if nanpad_right = True then 'nans' are inserted to complete the series\n",
    "\n",
    "# so what this does is, it converts a pandas df (id, t, col1, col2, ...) to array indexed\n",
    "# (id, t, col)\n",
    "\n",
    "events = tr.df_to_padded(df,['event'],t_col=t_col).squeeze()\n",
    "the_seq_lengths = df[['id', 't_elapsed']].groupby('id').aggregate('max')['t_elapsed'].values + 1\n",
    "print(the_seq_lengths)\n",
    "print(events.shape)\n",
    "print(events[95])\n",
    "# there should be 101 days for the oldest user, because there are that many days between\n",
    "# their first commit on 2015-11-07 and the last commit (not necessarily by them) on 2016-02-15\n",
    "# so events will be of shape (number of users, 101)"
   ]
  },
  {
   "cell_type": "code",
   "execution_count": 11,
   "metadata": {},
   "outputs": [
    {
     "name": "stdout",
     "output_type": "stream",
     "text": [
      "[  0.   4.   3.   2.   1.  nan  nan  nan  nan  nan  nan  nan  nan  nan  nan\n",
      "  nan  nan  nan  nan  nan  nan  nan  nan  nan  nan  nan  nan  nan  nan  nan\n",
      "  nan  nan  nan  nan  nan  nan  nan  nan  nan  nan  nan  nan  nan  nan  nan\n",
      "  nan  nan  nan  nan  nan  nan  nan  nan  nan  nan  nan  nan  nan  nan  nan\n",
      "  nan  nan  nan  nan  nan  nan  nan  nan  nan  nan  nan  nan  nan  nan  nan\n",
      "  nan  nan  nan  nan  nan  nan  nan  nan  nan  nan  nan  nan  nan  nan  nan\n",
      "  nan  nan  nan  nan  nan  nan  nan  nan  nan  nan  nan]\n",
      "[  1.   0.   0.   0.   0.  nan  nan  nan  nan  nan  nan  nan  nan  nan  nan\n",
      "  nan  nan  nan  nan  nan  nan  nan  nan  nan  nan  nan  nan  nan  nan  nan\n",
      "  nan  nan  nan  nan  nan  nan  nan  nan  nan  nan  nan  nan  nan  nan  nan\n",
      "  nan  nan  nan  nan  nan  nan  nan  nan  nan  nan  nan  nan  nan  nan  nan\n",
      "  nan  nan  nan  nan  nan  nan  nan  nan  nan  nan  nan  nan  nan  nan  nan\n",
      "  nan  nan  nan  nan  nan  nan  nan  nan  nan  nan  nan  nan  nan  nan  nan\n",
      "  nan  nan  nan  nan  nan  nan  nan  nan  nan  nan  nan]\n",
      "5\n"
     ]
    }
   ],
   "source": [
    "if discrete_time:\n",
    "#    padded_t = np.ones_like(events).cumsum(axis=1)-1\n",
    "    padded_t = None\n",
    "else:\n",
    "    padded_t = tr.df_to_padded(df,['t_elapsed'],t_col=t_col).squeeze()\n",
    "\n",
    "    \n",
    "# padded_tte computes the time from a given point in array \"events\"\n",
    "# to the next event = 1\n",
    "padded_tte = tr.padded_events_to_tte(events,discrete_time=discrete_time,t_elapsed=padded_t)\n",
    "print(padded_tte[95])\n",
    "# padded_u returns all 1's until it hits the last known event, after which\n",
    "# it's all 0's \n",
    "padded_u = tr.padded_events_to_not_censored(events,discrete_time)\n",
    "print(padded_u[95])\n",
    "\n",
    "# this returns the actual lengths of sequences for different users (without the padded nans)\n",
    "seq_lengths = (False==np.isnan(events)).sum(1)\n",
    "print(seq_lengths[95])"
   ]
  },
  {
   "cell_type": "code",
   "execution_count": 12,
   "metadata": {},
   "outputs": [
    {
     "name": "stdout",
     "output_type": "stream",
     "text": [
      "[101 101  89  88  86  85  74  71  69  68  67  65  63  63  63  63  62  61\n",
      "  61  61  61  61  60  60  60  60  60  59  58  57  55  55  55  54  54  54\n",
      "  53  52  52  51  51  50  47  44  43  43  43  42  42  41  41  40  40  38\n",
      "  36  36  36  35  35  35  33  33  33  31  29  28  26  25  24  24  24  23\n",
      "  23  23  22  21  21  21  20  18  18  18  18  15  13  12  12   9   8   8\n",
      "   6   6   6   5   5   5]\n"
     ]
    }
   ],
   "source": [
    "print(seq_lengths)"
   ]
  },
  {
   "cell_type": "code",
   "execution_count": 13,
   "metadata": {},
   "outputs": [
    {
     "name": "stdout",
     "output_type": "stream",
     "text": [
      "(96, 101, 4)\n",
      "(101, 4)\n"
     ]
    }
   ],
   "source": [
    "# Hide the truth from the model:\n",
    "feature_cols = [\"n_commits\",\"files_changed\", \"lines_inserted\",\"lines_deleted\"]\n",
    "# we used this functionality before to create events\n",
    "## like this: events = tr.df_to_padded(df,['event'],t_col=t_col).squeeze()\n",
    "# but now we are doing this for feature_cols, not ['events']\n",
    "\n",
    "x_ = tr.df_to_padded(df,feature_cols,t_col=t_col)\n",
    "if discrete_time:\n",
    "    x_ = tr.shift_discrete_padded_features(x_)\n",
    "\n",
    "# so x_ has the 4 features for the 96 user id's, and 101 timesteps (days) \n",
    "# the features are now padded with nans if nothing is available after a certain day\n",
    "print(x_.shape)\n",
    "print(x_[0].shape)"
   ]
  },
  {
   "cell_type": "code",
   "execution_count": 14,
   "metadata": {},
   "outputs": [
    {
     "name": "stdout",
     "output_type": "stream",
     "text": [
      "('n_timesteps = ', 101)\n",
      "('n_fatures = ', 4)\n",
      "('n_sequences = ', 96)\n",
      "('padded_tte type = ', <type 'numpy.ndarray'>, ' of size ', (96, 101))\n",
      "('padded_u type = ', <type 'numpy.ndarray'>, ' of size ', (96, 101))\n",
      "('Y_ is of shape ', (96, 101, 2))\n",
      "('selected x_ shape = ', (96, 101, 4), ' selected y_ shape = ', (96, 101, 2))\n"
     ]
    }
   ],
   "source": [
    "n_timesteps = x_.shape[1]\n",
    "print(\"n_timesteps = \",n_timesteps)\n",
    "n_features  = x_.shape[-1]\n",
    "print(\"n_fatures = \",n_features)\n",
    "n_sequences = x_.shape[0]\n",
    "print(\"n_sequences = \",n_sequences)\n",
    "seq_lengths = (False==np.isnan(x_[:,:,0])).sum(1)\n",
    "\n",
    "y_ = np.stack([padded_tte,padded_u],axis=-1)\n",
    "#del padded_tte, padded_u\n",
    "print(\"padded_tte type = \",type(padded_tte), \" of size \",padded_tte.shape)\n",
    "print(\"padded_u type = \",type(padded_u),\" of size \",padded_u.shape)\n",
    "print(\"Y_ is of shape \",y_.shape)\n",
    "\n",
    "new_ix    = np.random.permutation(y_.shape[0]).astype(int)  # Randomly sample array \n",
    "n_test    = np.floor(y_.shape[0]/4.0).astype(int)           # ex split 25% testsplit\n",
    "\n",
    "y_ = y_[new_ix,:,:]\n",
    "x_ = x_[new_ix,:,:]\n",
    "seq_lengths = seq_lengths[new_ix]\n",
    "print(\"selected x_ shape = \",x_.shape,\" selected y_ shape = \",y_.shape)"
   ]
  },
  {
   "cell_type": "code",
   "execution_count": 15,
   "metadata": {},
   "outputs": [
    {
     "name": "stdout",
     "output_type": "stream",
     "text": [
      "('x_train shape ', (72, 101, 4), ' x_test shape ', (24, 101, 4))\n",
      "('y_train shape ', (72, 101, 2), ' y_test shape ', (24, 101, 2))\n"
     ]
    }
   ],
   "source": [
    "# SPLIT into training/testing\n",
    "x_train = x_[n_test:,:,:]\n",
    "y_train = y_[n_test:,:,:]\n",
    "x_test  = x_[:n_test,:,:]\n",
    "y_test  = y_[:n_test,:,:]\n",
    "print(\"x_train shape \",x_train.shape,\" x_test shape \",x_test.shape)\n",
    "print(\"y_train shape \",y_train.shape,\" y_test shape \",y_test.shape)\n",
    "\n",
    "seq_lengths_train =  (np.isnan(y_train).sum(2) == 0).sum(1).flatten()\n",
    "seq_lengths_test  =  (np.isnan(y_test).sum(2) == 0).sum(1).flatten()\n",
    "del x_, y_\n",
    "\n",
    "# Sort each subset by seq length for pretty plots (OPTIONAL)\n",
    "new_order = np.argsort(seq_lengths_train)\n",
    "seq_lengths_train = seq_lengths_train[new_order]\n",
    "x_train = x_train[new_order,:,:]\n",
    "y_train = y_train[new_order,:,:]\n",
    "\n",
    "new_order = np.argsort(seq_lengths_test)\n",
    "seq_lengths_test = seq_lengths_test[new_order]\n",
    "x_test = x_test[new_order,:,:]\n",
    "y_test = y_test[new_order,:,:]\n",
    "del new_order\n",
    "\n",
    "# NORMALIZE\n",
    "x_train,means,stds = tr.normalize_padded(x_train)\n",
    "x_test,_,_         = tr.normalize_padded(x_test,means,stds)\n",
    "\n",
    "n_test      = x_test.shape[0]\n",
    "n_train     = x_train.shape[0]\n",
    "n_features  = x_train.shape[2]\n",
    "n_timesteps = y_train.shape[1]\n",
    "    "
   ]
  },
  {
   "cell_type": "code",
   "execution_count": 16,
   "metadata": {},
   "outputs": [
    {
     "name": "stdout",
     "output_type": "stream",
     "text": [
      "('train_mask is of type ', <type 'numpy.ndarray'>, ' shape ', (72, 101))\n",
      "[ True  True  True  True  True False False False False False False False\n",
      " False False False False False False False False False False False False\n",
      " False False False False False False False False False False False False\n",
      " False False False False False False False False False False False False\n",
      " False False False False False False False False False False False False\n",
      " False False False False False False False False False False False False\n",
      " False False False False False False False False False False False False\n",
      " False False False False False False False False False False False False\n",
      " False False False False False]\n"
     ]
    }
   ],
   "source": [
    "# SANITIZE VALUES AND CREATE MASK (weights)\n",
    "#y_train = np.concatenate([y_train[:,:,:],1.-np.isnan(y_train[:,:,1]).reshape(n_train,n_timesteps,1)],axis=-1)\n",
    "mask_value = -1337\n",
    "\n",
    "train_mask = False==np.isnan(y_train[:,:,0])\n",
    "test_mask  = False==np.isnan(y_test[:,:,0])\n",
    "print(\"train_mask is of type \",type(train_mask),\" shape \",train_mask.shape)\n",
    "print(train_mask[1])"
   ]
  },
  {
   "cell_type": "code",
   "execution_count": 17,
   "metadata": {},
   "outputs": [
    {
     "data": {
      "image/png": "[encoded data removed]",
      "text/plain": [
       "<matplotlib.figure.Figure at 0x122833910>"
      ]
     },
     "metadata": {},
     "output_type": "display_data"
    },
    {
     "data": {
      "image/png": "[encoded data removed]",
      "text/plain": [
       "<matplotlib.figure.Figure at 0x1227d9fd0>"
      ]
     },
     "metadata": {},
     "output_type": "display_data"
    },
    {
     "data": {
      "image/png": "[encoded data removed]",
      "text/plain": [
       "<matplotlib.figure.Figure at 0x122887c10>"
      ]
     },
     "metadata": {},
     "output_type": "display_data"
    },
    {
     "data": {
      "image/png": "[encoded data removed]",
      "text/plain": [
       "<matplotlib.figure.Figure at 0x1227d9b90>"
      ]
     },
     "metadata": {},
     "output_type": "display_data"
    },
    {
     "data": {
      "image/png": "[encoded data removed]",
      "text/plain": [
       "<matplotlib.figure.Figure at 0x122f05310>"
      ]
     },
     "metadata": {},
     "output_type": "display_data"
    },
    {
     "data": {
      "image/png": "[encoded data removed]",
      "text/plain": [
       "<matplotlib.figure.Figure at 0x122847b90>"
      ]
     },
     "metadata": {},
     "output_type": "display_data"
    },
    {
     "data": {
      "image/png": "[encoded data removed]",
      "text/plain": [
       "<matplotlib.figure.Figure at 0x12315cfd0>"
      ]
     },
     "metadata": {},
     "output_type": "display_data"
    },
    {
     "data": {
      "image/png": "[encoded data removed]",
      "text/plain": [
       "<matplotlib.figure.Figure at 0x123290950>"
      ]
     },
     "metadata": {},
     "output_type": "display_data"
    },
    {
     "name": "stdout",
     "output_type": "stream",
     "text": [
      "(72, 101, 4) float64\n",
      "(24, 101, 4) float64\n",
      "(72, 101, 2) float64\n",
      "(24, 101, 2) float64\n"
     ]
    }
   ],
   "source": [
    "for f in xrange(n_features):\n",
    "    plt.imshow(x_train[:,:,f],aspect='auto',interpolation=\"none\")\n",
    "    plt.title(feature_cols[f])\n",
    "    plt.show()\n",
    "    plt.hist(x_train[:,:,f][train_mask].flatten(),100)\n",
    "    plt.title(feature_cols[f])\n",
    "    plt.show()\n",
    "\n",
    "y_train[np.isnan(y_train)] = mask_value\n",
    "x_train[np.isnan(x_train)] = mask_value\n",
    "\n",
    "y_test[np.isnan(y_test)] = mask_value\n",
    "x_test[np.isnan(x_test)] = mask_value\n",
    "\n",
    "print x_train.shape,x_train.dtype\n",
    "print x_test.shape,x_test.dtype\n",
    "print y_train.shape,y_train.dtype\n",
    "print y_test.shape,y_test.dtype"
   ]
  },
  {
   "cell_type": "code",
   "execution_count": 19,
   "metadata": {},
   "outputs": [
    {
     "name": "stdout",
     "output_type": "stream",
     "text": [
      "init_alpha:  34.8626096973\n",
      "_________________________________________________________________\n",
      "Layer (type)                 Output Shape              Param #   \n",
      "=================================================================\n",
      "gru_2 (GRU)                  (None, 101, 1)            18        \n",
      "_________________________________________________________________\n",
      "dense_2 (Dense)              (None, 101, 2)            4         \n",
      "_________________________________________________________________\n",
      "activation_2 (Activation)    (None, 101, 2)            0         \n",
      "=================================================================\n",
      "Total params: 22.0\n",
      "Trainable params: 22.0\n",
      "Non-trainable params: 0.0\n",
      "_________________________________________________________________\n"
     ]
    }
   ],
   "source": [
    "np.random.seed(1)\n",
    "# Store some history\n",
    "history = History()\n",
    "#tensorboard = TensorBoard(log_dir='./logs', histogram_freq=1, write_graph=False, write_images=False)\n",
    "\n",
    "# Start building the model\n",
    "model = Sequential()\n",
    "model.add(GRU(1, input_shape=(n_timesteps, n_features),return_sequences=True))\n",
    "\n",
    "model.add(Dense(2))\n",
    "# Simple exponential activation function works too:\n",
    "# model.add(Activation(k.exp))\n",
    "\n",
    "# .. compare with using tailored.\n",
    "# Start at naive (ignoring censoring) geometric (beta=1) MLE:\n",
    "#####init_alpha = -1.0/np.log(1.0-1.0/(np.mean(y_train[:,:,0])+1.0) ) ## NEGATIVE ALPHA!\n",
    "init_alpha = 34.8626096973\n",
    "print 'init_alpha: ',init_alpha\n",
    "wtte_activation = wtte.output_activation(init_alpha=init_alpha,\n",
    "                                             max_beta_value=4.0).activation\n",
    "\n",
    "model.add(Activation(wtte_activation))\n",
    "loss = wtte.loss(kind='discrete',use_weights=False,use_censoring=True).loss_function\n",
    "\n",
    "model.compile(loss=loss, optimizer=RMSprop(lr=.01))#,sample_weight_mode=\"temporal\")\n",
    "\n",
    "model.summary()"
   ]
  },
  {
   "cell_type": "markdown",
   "metadata": {},
   "source": [
    "### The below doesn't work - possible reasons are:\n",
    "    --- init_alpha should be > 0 and initialization is important. Gradients explode if you're too far off. More censored data leads to higher probability of exploding grad initially.\n",
    "    --- Learning rate is dependent on data and can be in magnitudes you didn't expect\n",
    "    --- Varying length sequences has no clean implementation atm \n",
    "    --- Current solution: set n_timesteps = None and run training step with one input sequence (see cell after next)\n"
   ]
  },
  {
   "cell_type": "code",
   "execution_count": 20,
   "metadata": {},
   "outputs": [
    {
     "name": "stdout",
     "output_type": "stream",
     "text": [
      "Train on 72 samples, validate on 24 samples\n",
      "Epoch 1/75\n",
      "2s - loss: nan - val_loss: nan\n",
      "Epoch 2/75\n",
      "1s - loss: nan - val_loss: nan\n",
      "Epoch 3/75\n"
     ]
    },
    {
     "ename": "KeyboardInterrupt",
     "evalue": "",
     "output_type": "error",
     "traceback": [
      "\u001b[0;31m---------------------------------------------------------------------------\u001b[0m",
      "\u001b[0;31mKeyboardInterrupt\u001b[0m                         Traceback (most recent call last)",
      "\u001b[0;32m<ipython-input-20-2228e451ba51>\u001b[0m in \u001b[0;36m<module>\u001b[0;34m()\u001b[0m\n\u001b[1;32m      5\u001b[0m           \u001b[0mverbose\u001b[0m\u001b[0;34m=\u001b[0m\u001b[0;36m2\u001b[0m\u001b[0;34m,\u001b[0m\u001b[0;34m\u001b[0m\u001b[0m\n\u001b[1;32m      6\u001b[0m           \u001b[0mvalidation_data\u001b[0m\u001b[0;34m=\u001b[0m\u001b[0;34m(\u001b[0m\u001b[0mx_test\u001b[0m\u001b[0;34m,\u001b[0m \u001b[0my_test\u001b[0m\u001b[0;34m)\u001b[0m\u001b[0;34m,\u001b[0m\u001b[0;34m\u001b[0m\u001b[0m\n\u001b[0;32m----> 7\u001b[0;31m           \u001b[0mcallbacks\u001b[0m\u001b[0;34m=\u001b[0m\u001b[0;34m[\u001b[0m\u001b[0mhistory\u001b[0m\u001b[0;34m]\u001b[0m\u001b[0;34m,\u001b[0m\u001b[0;34m\u001b[0m\u001b[0m\n\u001b[0m\u001b[1;32m      8\u001b[0m \u001b[0;31m#          callbacks=[history,tensorboard]\u001b[0m\u001b[0;34m\u001b[0m\u001b[0;34m\u001b[0m\u001b[0m\n\u001b[1;32m      9\u001b[0m           )\n",
      "\u001b[0;32m/anaconda/lib/python2.7/site-packages/keras/models.pyc\u001b[0m in \u001b[0;36mfit\u001b[0;34m(self, x, y, batch_size, epochs, verbose, callbacks, validation_split, validation_data, shuffle, class_weight, sample_weight, initial_epoch, **kwargs)\u001b[0m\n\u001b[1;32m    843\u001b[0m                               \u001b[0mclass_weight\u001b[0m\u001b[0;34m=\u001b[0m\u001b[0mclass_weight\u001b[0m\u001b[0;34m,\u001b[0m\u001b[0;34m\u001b[0m\u001b[0m\n\u001b[1;32m    844\u001b[0m                               \u001b[0msample_weight\u001b[0m\u001b[0;34m=\u001b[0m\u001b[0msample_weight\u001b[0m\u001b[0;34m,\u001b[0m\u001b[0;34m\u001b[0m\u001b[0m\n\u001b[0;32m--> 845\u001b[0;31m                               initial_epoch=initial_epoch)\n\u001b[0m\u001b[1;32m    846\u001b[0m \u001b[0;34m\u001b[0m\u001b[0m\n\u001b[1;32m    847\u001b[0m     def evaluate(self, x, y, batch_size=32, verbose=1,\n",
      "\u001b[0;32m/anaconda/lib/python2.7/site-packages/keras/engine/training.pyc\u001b[0m in \u001b[0;36mfit\u001b[0;34m(self, x, y, batch_size, epochs, verbose, callbacks, validation_split, validation_data, shuffle, class_weight, sample_weight, initial_epoch, **kwargs)\u001b[0m\n\u001b[1;32m   1483\u001b[0m                               \u001b[0mval_f\u001b[0m\u001b[0;34m=\u001b[0m\u001b[0mval_f\u001b[0m\u001b[0;34m,\u001b[0m \u001b[0mval_ins\u001b[0m\u001b[0;34m=\u001b[0m\u001b[0mval_ins\u001b[0m\u001b[0;34m,\u001b[0m \u001b[0mshuffle\u001b[0m\u001b[0;34m=\u001b[0m\u001b[0mshuffle\u001b[0m\u001b[0;34m,\u001b[0m\u001b[0;34m\u001b[0m\u001b[0m\n\u001b[1;32m   1484\u001b[0m                               \u001b[0mcallback_metrics\u001b[0m\u001b[0;34m=\u001b[0m\u001b[0mcallback_metrics\u001b[0m\u001b[0;34m,\u001b[0m\u001b[0;34m\u001b[0m\u001b[0m\n\u001b[0;32m-> 1485\u001b[0;31m                               initial_epoch=initial_epoch)\n\u001b[0m\u001b[1;32m   1486\u001b[0m \u001b[0;34m\u001b[0m\u001b[0m\n\u001b[1;32m   1487\u001b[0m     \u001b[0;32mdef\u001b[0m \u001b[0mevaluate\u001b[0m\u001b[0;34m(\u001b[0m\u001b[0mself\u001b[0m\u001b[0;34m,\u001b[0m \u001b[0mx\u001b[0m\u001b[0;34m,\u001b[0m \u001b[0my\u001b[0m\u001b[0;34m,\u001b[0m \u001b[0mbatch_size\u001b[0m\u001b[0;34m=\u001b[0m\u001b[0;36m32\u001b[0m\u001b[0;34m,\u001b[0m \u001b[0mverbose\u001b[0m\u001b[0;34m=\u001b[0m\u001b[0;36m1\u001b[0m\u001b[0;34m,\u001b[0m \u001b[0msample_weight\u001b[0m\u001b[0;34m=\u001b[0m\u001b[0mNone\u001b[0m\u001b[0;34m)\u001b[0m\u001b[0;34m:\u001b[0m\u001b[0;34m\u001b[0m\u001b[0m\n",
      "\u001b[0;32m/anaconda/lib/python2.7/site-packages/keras/engine/training.pyc\u001b[0m in \u001b[0;36m_fit_loop\u001b[0;34m(self, f, ins, out_labels, batch_size, epochs, verbose, callbacks, val_f, val_ins, shuffle, callback_metrics, initial_epoch)\u001b[0m\n\u001b[1;32m   1138\u001b[0m                 \u001b[0mbatch_logs\u001b[0m\u001b[0;34m[\u001b[0m\u001b[0;34m'size'\u001b[0m\u001b[0;34m]\u001b[0m \u001b[0;34m=\u001b[0m \u001b[0mlen\u001b[0m\u001b[0;34m(\u001b[0m\u001b[0mbatch_ids\u001b[0m\u001b[0;34m)\u001b[0m\u001b[0;34m\u001b[0m\u001b[0m\n\u001b[1;32m   1139\u001b[0m                 \u001b[0mcallbacks\u001b[0m\u001b[0;34m.\u001b[0m\u001b[0mon_batch_begin\u001b[0m\u001b[0;34m(\u001b[0m\u001b[0mbatch_index\u001b[0m\u001b[0;34m,\u001b[0m \u001b[0mbatch_logs\u001b[0m\u001b[0;34m)\u001b[0m\u001b[0;34m\u001b[0m\u001b[0m\n\u001b[0;32m-> 1140\u001b[0;31m                 \u001b[0mouts\u001b[0m \u001b[0;34m=\u001b[0m \u001b[0mf\u001b[0m\u001b[0;34m(\u001b[0m\u001b[0mins_batch\u001b[0m\u001b[0;34m)\u001b[0m\u001b[0;34m\u001b[0m\u001b[0m\n\u001b[0m\u001b[1;32m   1141\u001b[0m                 \u001b[0;32mif\u001b[0m \u001b[0;32mnot\u001b[0m \u001b[0misinstance\u001b[0m\u001b[0;34m(\u001b[0m\u001b[0mouts\u001b[0m\u001b[0;34m,\u001b[0m \u001b[0mlist\u001b[0m\u001b[0;34m)\u001b[0m\u001b[0;34m:\u001b[0m\u001b[0;34m\u001b[0m\u001b[0m\n\u001b[1;32m   1142\u001b[0m                     \u001b[0mouts\u001b[0m \u001b[0;34m=\u001b[0m \u001b[0;34m[\u001b[0m\u001b[0mouts\u001b[0m\u001b[0;34m]\u001b[0m\u001b[0;34m\u001b[0m\u001b[0m\n",
      "\u001b[0;32m/anaconda/lib/python2.7/site-packages/keras/backend/tensorflow_backend.pyc\u001b[0m in \u001b[0;36m__call__\u001b[0;34m(self, inputs)\u001b[0m\n\u001b[1;32m   2071\u001b[0m         \u001b[0msession\u001b[0m \u001b[0;34m=\u001b[0m \u001b[0mget_session\u001b[0m\u001b[0;34m(\u001b[0m\u001b[0;34m)\u001b[0m\u001b[0;34m\u001b[0m\u001b[0m\n\u001b[1;32m   2072\u001b[0m         updated = session.run(self.outputs + [self.updates_op],\n\u001b[0;32m-> 2073\u001b[0;31m                               feed_dict=feed_dict)\n\u001b[0m\u001b[1;32m   2074\u001b[0m         \u001b[0;32mreturn\u001b[0m \u001b[0mupdated\u001b[0m\u001b[0;34m[\u001b[0m\u001b[0;34m:\u001b[0m\u001b[0mlen\u001b[0m\u001b[0;34m(\u001b[0m\u001b[0mself\u001b[0m\u001b[0;34m.\u001b[0m\u001b[0moutputs\u001b[0m\u001b[0;34m)\u001b[0m\u001b[0;34m]\u001b[0m\u001b[0;34m\u001b[0m\u001b[0m\n\u001b[1;32m   2075\u001b[0m \u001b[0;34m\u001b[0m\u001b[0m\n",
      "\u001b[0;32m/anaconda/lib/python2.7/site-packages/tensorflow/python/client/session.pyc\u001b[0m in \u001b[0;36mrun\u001b[0;34m(self, fetches, feed_dict, options, run_metadata)\u001b[0m\n\u001b[1;32m    765\u001b[0m     \u001b[0;32mtry\u001b[0m\u001b[0;34m:\u001b[0m\u001b[0;34m\u001b[0m\u001b[0m\n\u001b[1;32m    766\u001b[0m       result = self._run(None, fetches, feed_dict, options_ptr,\n\u001b[0;32m--> 767\u001b[0;31m                          run_metadata_ptr)\n\u001b[0m\u001b[1;32m    768\u001b[0m       \u001b[0;32mif\u001b[0m \u001b[0mrun_metadata\u001b[0m\u001b[0;34m:\u001b[0m\u001b[0;34m\u001b[0m\u001b[0m\n\u001b[1;32m    769\u001b[0m         \u001b[0mproto_data\u001b[0m \u001b[0;34m=\u001b[0m \u001b[0mtf_session\u001b[0m\u001b[0;34m.\u001b[0m\u001b[0mTF_GetBuffer\u001b[0m\u001b[0;34m(\u001b[0m\u001b[0mrun_metadata_ptr\u001b[0m\u001b[0;34m)\u001b[0m\u001b[0;34m\u001b[0m\u001b[0m\n",
      "\u001b[0;32m/anaconda/lib/python2.7/site-packages/tensorflow/python/client/session.pyc\u001b[0m in \u001b[0;36m_run\u001b[0;34m(self, handle, fetches, feed_dict, options, run_metadata)\u001b[0m\n\u001b[1;32m    963\u001b[0m     \u001b[0;32mif\u001b[0m \u001b[0mfinal_fetches\u001b[0m \u001b[0;32mor\u001b[0m \u001b[0mfinal_targets\u001b[0m\u001b[0;34m:\u001b[0m\u001b[0;34m\u001b[0m\u001b[0m\n\u001b[1;32m    964\u001b[0m       results = self._do_run(handle, final_targets, final_fetches,\n\u001b[0;32m--> 965\u001b[0;31m                              feed_dict_string, options, run_metadata)\n\u001b[0m\u001b[1;32m    966\u001b[0m     \u001b[0;32melse\u001b[0m\u001b[0;34m:\u001b[0m\u001b[0;34m\u001b[0m\u001b[0m\n\u001b[1;32m    967\u001b[0m       \u001b[0mresults\u001b[0m \u001b[0;34m=\u001b[0m \u001b[0;34m[\u001b[0m\u001b[0;34m]\u001b[0m\u001b[0;34m\u001b[0m\u001b[0m\n",
      "\u001b[0;32m/anaconda/lib/python2.7/site-packages/tensorflow/python/client/session.pyc\u001b[0m in \u001b[0;36m_do_run\u001b[0;34m(self, handle, target_list, fetch_list, feed_dict, options, run_metadata)\u001b[0m\n\u001b[1;32m   1013\u001b[0m     \u001b[0;32mif\u001b[0m \u001b[0mhandle\u001b[0m \u001b[0;32mis\u001b[0m \u001b[0mNone\u001b[0m\u001b[0;34m:\u001b[0m\u001b[0;34m\u001b[0m\u001b[0m\n\u001b[1;32m   1014\u001b[0m       return self._do_call(_run_fn, self._session, feed_dict, fetch_list,\n\u001b[0;32m-> 1015\u001b[0;31m                            target_list, options, run_metadata)\n\u001b[0m\u001b[1;32m   1016\u001b[0m     \u001b[0;32melse\u001b[0m\u001b[0;34m:\u001b[0m\u001b[0;34m\u001b[0m\u001b[0m\n\u001b[1;32m   1017\u001b[0m       return self._do_call(_prun_fn, self._session, handle, feed_dict,\n",
      "\u001b[0;32m/anaconda/lib/python2.7/site-packages/tensorflow/python/client/session.pyc\u001b[0m in \u001b[0;36m_do_call\u001b[0;34m(self, fn, *args)\u001b[0m\n\u001b[1;32m   1020\u001b[0m   \u001b[0;32mdef\u001b[0m \u001b[0m_do_call\u001b[0m\u001b[0;34m(\u001b[0m\u001b[0mself\u001b[0m\u001b[0;34m,\u001b[0m \u001b[0mfn\u001b[0m\u001b[0;34m,\u001b[0m \u001b[0;34m*\u001b[0m\u001b[0margs\u001b[0m\u001b[0;34m)\u001b[0m\u001b[0;34m:\u001b[0m\u001b[0;34m\u001b[0m\u001b[0m\n\u001b[1;32m   1021\u001b[0m     \u001b[0;32mtry\u001b[0m\u001b[0;34m:\u001b[0m\u001b[0;34m\u001b[0m\u001b[0m\n\u001b[0;32m-> 1022\u001b[0;31m       \u001b[0;32mreturn\u001b[0m \u001b[0mfn\u001b[0m\u001b[0;34m(\u001b[0m\u001b[0;34m*\u001b[0m\u001b[0margs\u001b[0m\u001b[0;34m)\u001b[0m\u001b[0;34m\u001b[0m\u001b[0m\n\u001b[0m\u001b[1;32m   1023\u001b[0m     \u001b[0;32mexcept\u001b[0m \u001b[0merrors\u001b[0m\u001b[0;34m.\u001b[0m\u001b[0mOpError\u001b[0m \u001b[0;32mas\u001b[0m \u001b[0me\u001b[0m\u001b[0;34m:\u001b[0m\u001b[0;34m\u001b[0m\u001b[0m\n\u001b[1;32m   1024\u001b[0m       \u001b[0mmessage\u001b[0m \u001b[0;34m=\u001b[0m \u001b[0mcompat\u001b[0m\u001b[0;34m.\u001b[0m\u001b[0mas_text\u001b[0m\u001b[0;34m(\u001b[0m\u001b[0me\u001b[0m\u001b[0;34m.\u001b[0m\u001b[0mmessage\u001b[0m\u001b[0;34m)\u001b[0m\u001b[0;34m\u001b[0m\u001b[0m\n",
      "\u001b[0;32m/anaconda/lib/python2.7/site-packages/tensorflow/python/client/session.pyc\u001b[0m in \u001b[0;36m_run_fn\u001b[0;34m(session, feed_dict, fetch_list, target_list, options, run_metadata)\u001b[0m\n\u001b[1;32m   1002\u001b[0m         return tf_session.TF_Run(session, options,\n\u001b[1;32m   1003\u001b[0m                                  \u001b[0mfeed_dict\u001b[0m\u001b[0;34m,\u001b[0m \u001b[0mfetch_list\u001b[0m\u001b[0;34m,\u001b[0m \u001b[0mtarget_list\u001b[0m\u001b[0;34m,\u001b[0m\u001b[0;34m\u001b[0m\u001b[0m\n\u001b[0;32m-> 1004\u001b[0;31m                                  status, run_metadata)\n\u001b[0m\u001b[1;32m   1005\u001b[0m \u001b[0;34m\u001b[0m\u001b[0m\n\u001b[1;32m   1006\u001b[0m     \u001b[0;32mdef\u001b[0m \u001b[0m_prun_fn\u001b[0m\u001b[0;34m(\u001b[0m\u001b[0msession\u001b[0m\u001b[0;34m,\u001b[0m \u001b[0mhandle\u001b[0m\u001b[0;34m,\u001b[0m \u001b[0mfeed_dict\u001b[0m\u001b[0;34m,\u001b[0m \u001b[0mfetch_list\u001b[0m\u001b[0;34m)\u001b[0m\u001b[0;34m:\u001b[0m\u001b[0;34m\u001b[0m\u001b[0m\n",
      "\u001b[0;31mKeyboardInterrupt\u001b[0m: "
     ]
    }
   ],
   "source": [
    "np.random.seed(1)\n",
    "model.fit(x_train, y_train,\n",
    "          epochs=75, \n",
    "          batch_size=x_train.shape[0]/10, \n",
    "          verbose=2, \n",
    "          validation_data=(x_test, y_test),\n",
    "          callbacks=[history],\n",
    "#          callbacks=[history,tensorboard]\n",
    "          )"
   ]
  },
  {
   "cell_type": "code",
   "execution_count": 21,
   "metadata": {},
   "outputs": [
    {
     "name": "stdout",
     "output_type": "stream",
     "text": [
      "(31, 2)\n"
     ]
    }
   ],
   "source": [
    "#print(the_seq_lengths)\n",
    "i = 63\n",
    "print(y_train[i,:the_seq_lengths[i],:].shape)"
   ]
  },
  {
   "cell_type": "code",
   "execution_count": 23,
   "metadata": {},
   "outputs": [
    {
     "name": "stdout",
     "output_type": "stream",
     "text": [
      "_________________________________________________________________\n",
      "Layer (type)                 Output Shape              Param #   \n",
      "=================================================================\n",
      "gru_4 (GRU)                  (None, 31, 10)            450       \n",
      "_________________________________________________________________\n",
      "dense_4 (Dense)              (None, 31, 2)             22        \n",
      "_________________________________________________________________\n",
      "activation_4 (Activation)    (None, 31, 2)             0         \n",
      "=================================================================\n",
      "Total params: 472.0\n",
      "Trainable params: 472.0\n",
      "Non-trainable params: 0.0\n",
      "_________________________________________________________________\n",
      "(31, 4)\n",
      "(31, 2)\n",
      "[[[  0.   1.]\n",
      "  [ 12.   1.]\n",
      "  [ 11.   1.]\n",
      "  [ 10.   1.]\n",
      "  [  9.   1.]\n",
      "  [  8.   1.]\n",
      "  [  7.   1.]\n",
      "  [  6.   1.]\n",
      "  [  5.   1.]\n",
      "  [  4.   1.]\n",
      "  [  3.   1.]\n",
      "  [  2.   1.]\n",
      "  [  1.   1.]\n",
      "  [  0.   1.]\n",
      "  [  2.   1.]\n",
      "  [  1.   1.]\n",
      "  [  0.   1.]\n",
      "  [ 46.   0.]\n",
      "  [ 45.   0.]\n",
      "  [ 44.   0.]\n",
      "  [ 43.   0.]\n",
      "  [ 42.   0.]\n",
      "  [ 41.   0.]\n",
      "  [ 40.   0.]\n",
      "  [ 39.   0.]\n",
      "  [ 38.   0.]\n",
      "  [ 37.   0.]\n",
      "  [ 36.   0.]\n",
      "  [ 35.   0.]\n",
      "  [ 34.   0.]\n",
      "  [ 33.   0.]]]\n",
      "Epoch 1/1\n",
      "0s - loss: 356.1460\n"
     ]
    }
   ],
   "source": [
    "model2 = Sequential()\n",
    "\n",
    "#GRU args: 1 = dimensionality of the output space\n",
    "#         input_shape = (n_timesteps, n_features)\n",
    "model2.add(GRU(10,input_shape=(31,4), return_sequences=True))\n",
    "\n",
    "model2.add(Dense(2))\n",
    "#model2.add(Activation(k.exp))\n",
    "\n",
    "init_alpha = 1\n",
    "#print 'init_alpha: ',init_alpha\n",
    "wtte_activation = wtte.output_activation(init_alpha=init_alpha,\n",
    "                                             max_beta_value=4.0).activation\n",
    "\n",
    "model2.add(Activation(wtte_activation))\n",
    "loss2 = wtte.loss(kind='discrete',use_weights=False,use_censoring=True).loss_function\n",
    "model2.compile(loss=loss2, optimizer=RMSprop(lr=.1))#,sample_weight_mode=\"temporal\")\n",
    "model2.summary()\n",
    "\n",
    "n_samples = 1\n",
    "for i in xrange(n_samples):\n",
    "    print(x_train[63,:the_seq_lengths[63],:].shape)\n",
    "    print(y_train[63,:the_seq_lengths[63],:].shape)\n",
    "    tmp = x_train[63,:the_seq_lengths[63],:].reshape(1,31,4)\n",
    "    tmp2 = y_train[63,:the_seq_lengths[63],:].reshape(1,31,2)\n",
    "    print(tmp2)\n",
    "    #model2.fit(x_train[i,:the_seq_lengths[i],:],y_train[i,:the_seq_engths[i],:])\n",
    "    model2.fit(tmp,tmp2,\n",
    "                epochs=1,\n",
    "                batch_size=1,\n",
    "                verbose=2)"
   ]
  },
  {
   "cell_type": "code",
   "execution_count": null,
   "metadata": {
    "collapsed": true
   },
   "outputs": [],
   "source": []
  }
 ],
 "metadata": {
  "kernelspec": {
   "display_name": "Python 2",
   "language": "python",
   "name": "python2"
  },
  "language_info": {
   "codemirror_mode": {
    "name": "ipython",
    "version": 2
   },
   "file_extension": ".py",
   "mimetype": "text/x-python",
   "name": "python",
   "nbconvert_exporter": "python",
   "pygments_lexer": "ipython2",
   "version": "2.7.10"
  }
 },
 "nbformat": 4,
 "nbformat_minor": 1
}
